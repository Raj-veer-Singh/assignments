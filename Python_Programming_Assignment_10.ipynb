{
 "cells": [
  {
   "cell_type": "code",
   "execution_count": null,
   "id": "a410bc3f",
   "metadata": {},
   "outputs": [],
   "source": [
    "#1. Write a Python program to find sum of elements in list?\n",
    "#2. Write a Python program to Multiply all numbers in the list?\n",
    "#3. Write a Python program to find smallest number in a list?\n",
    "#4. Write a Python program to find largest number in a list?\n",
    "#5. Write a Python program to find second largest number in a list?\n",
    "#6. Write a Python program to find N largest elements from a list?\n",
    "#7. Write a Python program to print even numbers in a list?\n",
    "#8. Write a Python program to print odd numbers in a List?\n",
    "#9. Write a Python program to Remove empty List from List?\n",
    "#10. Write a Python program to Cloning or Copying a list?\n",
    "#11. Write a Python program to Count occurrences of an element in a list?"
   ]
  },
  {
   "cell_type": "code",
   "execution_count": 30,
   "id": "1e6ccacc",
   "metadata": {},
   "outputs": [
    {
     "name": "stdout",
     "output_type": "stream",
     "text": [
      "Sum of the given list =  30\n"
     ]
    }
   ],
   "source": [
    "#1. Write a Python program to find sum of elements in list?\n",
    "\n",
    "list = [1,2,3,4,5,6,9]\n",
    "sum = 0\n",
    "for i in range(len(list)):\n",
    "    \n",
    "    sum = sum + list[i]\n",
    "    \n",
    "print(\"Sum of the given list = \", sum)\n"
   ]
  },
  {
   "cell_type": "code",
   "execution_count": 31,
   "id": "8cfc8c67",
   "metadata": {},
   "outputs": [
    {
     "name": "stdout",
     "output_type": "stream",
     "text": [
      "Multiplications of all elements in the given list  720\n"
     ]
    }
   ],
   "source": [
    "#2. Write a Python program to Multiply all numbers in the list?\n",
    "l1 = [1,2,3,4,5,6]\n",
    "mul = 1\n",
    "for i in range(len(l1)):\n",
    "    mul = mul*l1[i]\n",
    "    \n",
    "print(\"Multiplications of all elements in the given list \", mul)"
   ]
  },
  {
   "cell_type": "code",
   "execution_count": 9,
   "id": "72bdccda",
   "metadata": {},
   "outputs": [
    {
     "name": "stdout",
     "output_type": "stream",
     "text": [
      "Smallest number in the list is  -1\n"
     ]
    }
   ],
   "source": [
    "#3. Write a Python program to find smallest number in a list?\n",
    "\n",
    "l2 = [3,2,0,2,-1,8]\n",
    "smallest = l2[0]\n",
    "\n",
    "for i in range(len(l2)):\n",
    "    \n",
    "    if l2[i] < smallest:\n",
    "        smallest = l2[i]\n",
    "        \n",
    "    \n",
    "        \n",
    "print(\"Smallest number in the list is \" , smallest)\n",
    "    \n",
    "    "
   ]
  },
  {
   "cell_type": "code",
   "execution_count": 10,
   "id": "c84a263a",
   "metadata": {},
   "outputs": [
    {
     "name": "stdout",
     "output_type": "stream",
     "text": [
      "largest number in the list is  77\n"
     ]
    }
   ],
   "source": [
    "#4. Write a Python program to find largest number in a list?\n",
    "l3 = [2,3,5,11,77,8,9]\n",
    "largest = l3[0]\n",
    "\n",
    "for i in range(len(l3)):\n",
    "    if l3[i] > largest:\n",
    "        largest = l3[i]\n",
    "        \n",
    "print(\"largest number in the list is \", largest)"
   ]
  },
  {
   "cell_type": "code",
   "execution_count": 7,
   "id": "f7bac247",
   "metadata": {},
   "outputs": [
    {
     "name": "stdout",
     "output_type": "stream",
     "text": [
      "Second largest number in a list is  66\n"
     ]
    }
   ],
   "source": [
    "#5. Write a Python program to find second largest number in a list?\n",
    "l4 = [2,4,55,66,77,1,3]\n",
    "new_l4 = set(l4)\n",
    "\n",
    "new_l4.remove(max(new_l4))\n",
    "#print(new_l4)\n",
    "\n",
    "second_largest = max(new_l4)\n",
    "print(\"Second largest number in a list is \", second_largest)"
   ]
  },
  {
   "cell_type": "code",
   "execution_count": 8,
   "id": "889e242a",
   "metadata": {},
   "outputs": [
    {
     "name": "stdout",
     "output_type": "stream",
     "text": [
      "Three largest element in a list are  [77, 44, 34]\n"
     ]
    }
   ],
   "source": [
    "#6. Write a Python program to find N largest elements from a list?\n",
    "import heapq\n",
    "list5 = [22,44,11,77,28,34]\n",
    "result = heapq.nlargest(3,list5)\n",
    "\n",
    "print(\"Three largest element in a list are \", result)\n"
   ]
  },
  {
   "cell_type": "code",
   "execution_count": 17,
   "id": "071acd4b",
   "metadata": {},
   "outputs": [
    {
     "name": "stdout",
     "output_type": "stream",
     "text": [
      "Even numbers from the list are  [2, 4, 12, 6, 8]\n"
     ]
    }
   ],
   "source": [
    "#7. Write a Python program to print even numbers in a list?\n",
    "l6 = [1,2,3,4,12,6,7,8,9]\n",
    "l7 = []\n",
    "\n",
    "for i in range(len(l6)):\n",
    "    if l6[i]%2 == 0:\n",
    "        l7.append(l6[i])\n",
    "        \n",
    "print(\"Even numbers from the list are \" , l7)"
   ]
  },
  {
   "cell_type": "code",
   "execution_count": 19,
   "id": "6e57f516",
   "metadata": {},
   "outputs": [
    {
     "name": "stdout",
     "output_type": "stream",
     "text": [
      "Odd numbers from the list are  [1, 3, 7, 9]\n"
     ]
    }
   ],
   "source": [
    "#8. Write a Python program to print odd numbers in a List?\n",
    "l6 = [1,2,3,4,12,6,7,8,9]\n",
    "l7 = []\n",
    "\n",
    "for i in range(len(l6)):\n",
    "    if l6[i]%2 != 0:\n",
    "        l7.append(l6[i])\n",
    "        \n",
    "print(\"Odd numbers from the list are \" , l7)"
   ]
  },
  {
   "cell_type": "code",
   "execution_count": 21,
   "id": "c40e9eae",
   "metadata": {},
   "outputs": [
    {
     "name": "stdout",
     "output_type": "stream",
     "text": [
      "list after removing empty list  [2, 3, 4, 44, 22]\n"
     ]
    }
   ],
   "source": [
    "#9. Write a Python program to Remove empty List from List?\n",
    "l8 = [2,3,4,[],44,[],22,[]]\n",
    "\n",
    "\n",
    "ans = [i for i in l8 if i != []]\n",
    "\n",
    "print(\"list after removing empty list \" , ans)"
   ]
  },
  {
   "cell_type": "code",
   "execution_count": 22,
   "id": "d3ceecb8",
   "metadata": {},
   "outputs": [
    {
     "name": "stdout",
     "output_type": "stream",
     "text": [
      "original list =  [1, 3, 6, 33, 77]\n",
      "After copying =  [1, 3, 6, 33, 77]\n"
     ]
    }
   ],
   "source": [
    "#10. Write a Python program to Cloning or Copying a list?\n",
    "\n",
    "def cloning(l9):\n",
    "    l9_copy = []\n",
    "    l9_copy.extend(l9)\n",
    "    \n",
    "    return l9_copy\n",
    "\n",
    "\n",
    "l9 = [1,3,6,33,77]\n",
    "l9_copy = cloning(l9)\n",
    "\n",
    "print(\"original list = \", l9)\n",
    "print(\"After copying = \", l9_copy)"
   ]
  },
  {
   "cell_type": "code",
   "execution_count": 31,
   "id": "f1df1f44",
   "metadata": {},
   "outputs": [
    {
     "name": "stdout",
     "output_type": "stream",
     "text": [
      "Element 2 occured  4 Times in a list\n"
     ]
    }
   ],
   "source": [
    "#11. Write a Python program to Count occurrences of an element in a list?\n",
    "#Count 2 in below list\n",
    "l10 = [2,4,6,7,2,3,2,2,3]\n",
    "count = 0\n",
    "\n",
    "for i in range(len(l10)):\n",
    "    if l10[i] == 2:\n",
    "        \n",
    "        count = count+1\n",
    "        \n",
    "print(\"Element 2 occured \",count , \"Times in a list\")\n",
    "    "
   ]
  }
 ],
 "metadata": {
  "kernelspec": {
   "display_name": "Python 3 (ipykernel)",
   "language": "python",
   "name": "python3"
  },
  "language_info": {
   "codemirror_mode": {
    "name": "ipython",
    "version": 3
   },
   "file_extension": ".py",
   "mimetype": "text/x-python",
   "name": "python",
   "nbconvert_exporter": "python",
   "pygments_lexer": "ipython3",
   "version": "3.9.7"
  }
 },
 "nbformat": 4,
 "nbformat_minor": 5
}
