{
 "cells": [
  {
   "cell_type": "code",
   "execution_count": 1,
   "id": "4a9bbb8a",
   "metadata": {},
   "outputs": [],
   "source": [
    "#1. Write a Python program to convert kilometers to miles?"
   ]
  },
  {
   "cell_type": "code",
   "execution_count": 2,
   "id": "b8077ed7",
   "metadata": {},
   "outputs": [
    {
     "name": "stdout",
     "output_type": "stream",
     "text": [
      "enter kilometer 1\n",
      "miles =  0.6215040397762586\n"
     ]
    }
   ],
   "source": [
    "kilometer = float(input(\"enter kilometer \"))\n",
    "miles = 0\n",
    "if kilometer == 0:\n",
    "    print(\"invalid input \")\n",
    "else:\n",
    "    miles = kilometer / 1.609\n",
    "    \n",
    "    print(\"miles = \" , miles)\n"
   ]
  },
  {
   "cell_type": "code",
   "execution_count": 3,
   "id": "dff8dfe3",
   "metadata": {},
   "outputs": [],
   "source": [
    "#2. Write a Python program to convert Celsius to Fahrenheit?"
   ]
  },
  {
   "cell_type": "code",
   "execution_count": 4,
   "id": "6392e27e",
   "metadata": {},
   "outputs": [
    {
     "name": "stdout",
     "output_type": "stream",
     "text": [
      "enter celcius 0\n",
      "Fahrenheit =  32.0\n"
     ]
    }
   ],
   "source": [
    "celcius = float(input(\"enter celcius \"))\n",
    "Fahrenheit = celcius * 1.8 + 32\n",
    "print(\"Fahrenheit = \",Fahrenheit)"
   ]
  },
  {
   "cell_type": "code",
   "execution_count": 5,
   "id": "69f0115d",
   "metadata": {},
   "outputs": [],
   "source": [
    "#3. Write a Python program to display calendar?"
   ]
  },
  {
   "cell_type": "code",
   "execution_count": 1,
   "id": "6f2bc220",
   "metadata": {},
   "outputs": [
    {
     "name": "stdout",
     "output_type": "stream",
     "text": [
      "enter year 2017\n",
      "enter month 12\n",
      "   December 2017\n",
      "Mo Tu We Th Fr Sa Su\n",
      "             1  2  3\n",
      " 4  5  6  7  8  9 10\n",
      "11 12 13 14 15 16 17\n",
      "18 19 20 21 22 23 24\n",
      "25 26 27 28 29 30 31\n",
      "\n"
     ]
    }
   ],
   "source": [
    "import calendar\n",
    "\n",
    "year = int(input(\"enter year \"))\n",
    "mnth = int(input(\"enter month \"))\n",
    "\n",
    "print(calendar.month(year,mnth))"
   ]
  },
  {
   "cell_type": "code",
   "execution_count": 13,
   "id": "d2f895b6",
   "metadata": {},
   "outputs": [],
   "source": [
    "#4. Write a Python program to solve quadratic equation?"
   ]
  },
  {
   "cell_type": "code",
   "execution_count": 17,
   "id": "128a0b4e",
   "metadata": {},
   "outputs": [
    {
     "name": "stdout",
     "output_type": "stream",
     "text": [
      "enter value of a 2\n",
      "enter value of b 3\n",
      "enter value of c 4\n",
      "the roots of the quadratic equations are  (-3+4.795831523312719j) and (-3-4.795831523312719j)\n"
     ]
    }
   ],
   "source": [
    "import cmath\n",
    "\n",
    "a =  int(input(\"enter value of a \"))\n",
    "b = int(input(\"enter value of b \"))\n",
    "c = int(input(\"enter value of c \"))\n",
    "\n",
    "x = (b*b) - (4*a*c)\n",
    "first_root = (-b + cmath.sqrt(x) )/2*a\n",
    "second_root = (-b - cmath.sqrt(x) )/2*a\n",
    "print(\"the roots of the quadratic equations are \", first_root, \"and\", second_root)\n",
    "\n"
   ]
  },
  {
   "cell_type": "code",
   "execution_count": 18,
   "id": "2357fcb3",
   "metadata": {},
   "outputs": [],
   "source": [
    "#5. Write a Python program to swap two variables without temp variable?"
   ]
  },
  {
   "cell_type": "code",
   "execution_count": 20,
   "id": "9a0826c0",
   "metadata": {},
   "outputs": [
    {
     "name": "stdout",
     "output_type": "stream",
     "text": [
      "after swapping  a =  3 b =  10\n"
     ]
    }
   ],
   "source": [
    "a = 10\n",
    "b = 3\n",
    "\n",
    "b,a = a,b\n",
    "\n",
    "print(\"after swapping \", \"a = \", a, \"b = \", b)"
   ]
  },
  {
   "cell_type": "code",
   "execution_count": null,
   "id": "1af7aef5",
   "metadata": {},
   "outputs": [],
   "source": []
  }
 ],
 "metadata": {
  "kernelspec": {
   "display_name": "Python 3 (ipykernel)",
   "language": "python",
   "name": "python3"
  },
  "language_info": {
   "codemirror_mode": {
    "name": "ipython",
    "version": 3
   },
   "file_extension": ".py",
   "mimetype": "text/x-python",
   "name": "python",
   "nbconvert_exporter": "python",
   "pygments_lexer": "ipython3",
   "version": "3.9.7"
  }
 },
 "nbformat": 4,
 "nbformat_minor": 5
}
