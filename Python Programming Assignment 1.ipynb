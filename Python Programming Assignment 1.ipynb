{
 "cells": [
  {
   "cell_type": "code",
   "execution_count": null,
   "id": "bda70ddd",
   "metadata": {},
   "outputs": [],
   "source": [
    "#1. Write a Python program to print \"Hello Python\"\n",
    "#2. Write a Python program to do arithmetical operations addition and division\n",
    "#3. Write a Python program to find the area of a triangle\n",
    "#4. Write a Python program to swap two variables\n",
    "#5. Write a Python program to generate a random number"
   ]
  },
  {
   "cell_type": "code",
   "execution_count": 1,
   "id": "a6ed3c05",
   "metadata": {},
   "outputs": [
    {
     "name": "stdout",
     "output_type": "stream",
     "text": [
      "Hello Python\n"
     ]
    }
   ],
   "source": [
    "#1. Write a Python program to print \"Hello Python\"\n",
    "print(\"Hello Python\")"
   ]
  },
  {
   "cell_type": "code",
   "execution_count": 2,
   "id": "9e6a83f3",
   "metadata": {},
   "outputs": [
    {
     "name": "stdout",
     "output_type": "stream",
     "text": [
      "enrer first number 3\n",
      "enter second number 4\n",
      "addition =  7 div =  0.75\n"
     ]
    }
   ],
   "source": [
    "#2. Write a Python program to do arithmetical operations addition and division\n",
    "a = int(input(\"enrer first number \"))\n",
    "b = int(input(\"enter second number \"))\n",
    "\n",
    "add = a + b\n",
    "div = a/b\n",
    "\n",
    "print(\"addition = \", add , \"div = \", div)"
   ]
  },
  {
   "cell_type": "code",
   "execution_count": 3,
   "id": "78b48323",
   "metadata": {},
   "outputs": [
    {
     "name": "stdout",
     "output_type": "stream",
     "text": [
      "enter base of the triangle 3\n",
      "enter height of a triangle 4\n",
      "area of triangle =  6.0\n"
     ]
    }
   ],
   "source": [
    "#3. Write a Python program to find the area of a triangle\n",
    "base = float(input(\"enter base of the triangle \"))\n",
    "height = float(input(\"enter height of a triangle \"))\n",
    "\n",
    "area = 0.5 * base * height\n",
    "print(\"area of triangle = \", area)"
   ]
  },
  {
   "cell_type": "code",
   "execution_count": 5,
   "id": "d805e574",
   "metadata": {},
   "outputs": [
    {
     "name": "stdout",
     "output_type": "stream",
     "text": [
      "ente first number 4\n",
      "ente second number 5\n",
      "number 1 =  5 number 2 =  4\n"
     ]
    }
   ],
   "source": [
    "#4. Write a Python program to swap two variables\n",
    "a = int(input(\"ente first number \"))\n",
    "b = int(input(\"ente second number \"))\n",
    "\n",
    "\n",
    "a, b = b, a\n",
    "print(\"number 1 = \", a , \"number 2 = \", b)\n",
    "\n",
    "\n"
   ]
  },
  {
   "cell_type": "code",
   "execution_count": 5,
   "id": "1353044a",
   "metadata": {},
   "outputs": [
    {
     "name": "stdout",
     "output_type": "stream",
     "text": [
      "860\n"
     ]
    }
   ],
   "source": [
    "#5. Write a Python program to generate a random number\n",
    "import random\n",
    "print(random.randint(1,1000))"
   ]
  }
 ],
 "metadata": {
  "kernelspec": {
   "display_name": "Python 3 (ipykernel)",
   "language": "python",
   "name": "python3"
  },
  "language_info": {
   "codemirror_mode": {
    "name": "ipython",
    "version": 3
   },
   "file_extension": ".py",
   "mimetype": "text/x-python",
   "name": "python",
   "nbconvert_exporter": "python",
   "pygments_lexer": "ipython3",
   "version": "3.9.7"
  }
 },
 "nbformat": 4,
 "nbformat_minor": 5
}
