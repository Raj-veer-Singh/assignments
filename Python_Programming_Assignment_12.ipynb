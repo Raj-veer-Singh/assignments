{
 "cells": [
  {
   "cell_type": "code",
   "execution_count": 1,
   "id": "f5d47e18",
   "metadata": {},
   "outputs": [],
   "source": [
    "#1. Write a Python program to Extract Unique values dictionary values?\n",
    "#2. Write a Python program to find the sum of all items in a dictionary?\n",
    "#3. Write a Python program to Merging two Dictionaries?\n",
    "#4. Write a Python program to convert key-values list to flat dictionary? \n",
    "#5. Write a Python program to insertion at the beginning in OrderedDict?\n",
    "#6. Write a Python program to check order of character in string using OrderedDict()?\n",
    "#7. Write a Python program to sort Python Dictionaries by Key or Value?"
   ]
  },
  {
   "cell_type": "code",
   "execution_count": 9,
   "id": "8834c851",
   "metadata": {},
   "outputs": [
    {
     "name": "stdout",
     "output_type": "stream",
     "text": [
      "The unique values in the dict are  [0, 3, 5, 7, 8, 11, 12, 77, 45, 51, 22, 63]\n"
     ]
    }
   ],
   "source": [
    "#1. Write a Python program to Extract Unique values dictionary values?\n",
    "\n",
    "dic = {'hi' : [5,3,8, 0],\n",
    "   'there' : [22, 51, 63, 77],\n",
    "   'how' : [7, 0, 22],\n",
    "   'are' : [12, 11, 45]}\n",
    "\n",
    "x=[]\n",
    "for ele in dic.values():\n",
    "    for j in ele:\n",
    "        x.append(j)\n",
    "\n",
    "x = list(set(x))\n",
    "print(\"The unique values in the dict are \",x)\n",
    "\n",
    "    \n",
    "    \n",
    "    "
   ]
  },
  {
   "cell_type": "code",
   "execution_count": 12,
   "id": "fe8bcaed",
   "metadata": {},
   "outputs": [
    {
     "name": "stdout",
     "output_type": "stream",
     "text": [
      "Sum of elements =  275\n"
     ]
    }
   ],
   "source": [
    "#2. Write a Python program to find the sum of all items in a dictionary?\n",
    "\n",
    "def dic_sum(d):\n",
    "    \n",
    "   \n",
    "    sum = 0\n",
    "    \n",
    "    for i in d.values():\n",
    "        sum = sum + i\n",
    "        \n",
    "    return sum\n",
    "\n",
    "d = {'A': 200, 'B' : 30 , 'C' : 45}\n",
    "print(\"Sum of elements = \", dic_sum(d))"
   ]
  },
  {
   "cell_type": "code",
   "execution_count": 4,
   "id": "cc9e4749",
   "metadata": {},
   "outputs": [
    {
     "name": "stdout",
     "output_type": "stream",
     "text": [
      "After merging d1 and d2  {'C': 3, 'B': 2, 'Z': 6, 'A': 1}\n"
     ]
    }
   ],
   "source": [
    "#3. Write a Python program to Merging two Dictionaries?\n",
    "\n",
    "d1 = {'A' : 1, 'B' : 2}\n",
    "d2 = {'C' : 3, 'B':4 , 'Z': 6}\n",
    "\n",
    "d3 = d2.copy()\n",
    "d3.update(d1)\n",
    "\n",
    "print(\"After merging d1 and d2 \" , d3)"
   ]
  },
  {
   "cell_type": "code",
   "execution_count": 26,
   "id": "5554f933",
   "metadata": {},
   "outputs": [
    {
     "name": "stdout",
     "output_type": "stream",
     "text": [
      "Flattened dictionary :  {1: 'Jan', 2: 'Feb', 3: 'March'}\n"
     ]
    }
   ],
   "source": [
    "#4. Write a Python program to convert key-values list to flat dictionary? \n",
    "\n",
    "\n",
    "d4 = {'month' : [1, 2, 3],\n",
    "            'name' : ['Jan', 'Feb', 'March']}\n",
    " \n",
    "\n",
    "\n",
    "x=list(test_dict.values())\n",
    "a=x[0]\n",
    "b=x[1]\n",
    "d=dict()\n",
    "for i in range(0,len(a)):\n",
    "    d[a[i]]=b[i]\n",
    "\n",
    "print(\"Flattened dictionary : \" , d)"
   ]
  },
  {
   "cell_type": "code",
   "execution_count": 30,
   "id": "6a5f548d",
   "metadata": {},
   "outputs": [
    {
     "name": "stdout",
     "output_type": "stream",
     "text": [
      "Final Dic after insertion in beg OrderedDict([('Data_Insertion', '3'), ('Data_Deletion', '4'), ('Ineuron', '1'), ('Rajveer', '2')])\n"
     ]
    }
   ],
   "source": [
    "#5. Write a Python program to insertion at the beginning in OrderedDict?\n",
    "\n",
    "from collections import OrderedDict\n",
    "\n",
    "dic_1 = OrderedDict([('Ineuron', '1') , ('Rajveer' , '2')])\n",
    "dic_2 = OrderedDict([('Data_Insertion' , '3') , ('Data_Deletion' , '4')])\n",
    "\n",
    "final = OrderedDict(list(dic_2.items()) + list(dic_1.items()))\n",
    "\n",
    "print(\"Final Dic after insertion in beg \" + str(final))"
   ]
  },
  {
   "cell_type": "code",
   "execution_count": 31,
   "id": "aa67a7a1",
   "metadata": {},
   "outputs": [
    {
     "name": "stdout",
     "output_type": "stream",
     "text": [
      "True\n"
     ]
    }
   ],
   "source": [
    "#\n",
    "6. Write a Python program to check order of character in string using OrderedDict()?\n",
    "\n",
    "def check_order(string, pattern):\n",
    "    i, j = 0, 0\n",
    "    for char in string:\n",
    "        if char == pattern[j]:\n",
    "            j += 1\n",
    "        if j == len(pattern):\n",
    "            return True\n",
    "        i += 1\n",
    " \n",
    "    return False\n",
    "string = 'Ineuron Engineers'\n",
    "pattern = 'er'\n",
    "print(check_order(string, pattern))\n"
   ]
  },
  {
   "cell_type": "code",
   "execution_count": 17,
   "id": "62e22e7a",
   "metadata": {},
   "outputs": [
    {
     "name": "stdout",
     "output_type": "stream",
     "text": [
      "unsorted Dict  {'Arun': 20, 'ram': 40, 'Pam': 10, 'Jim': 4, 'Michael': 55}\n",
      "Sorted Dict  {'Jim': 4, 'Pam': 10, 'Arun': 20, 'ram': 40, 'Michael': 55}\n"
     ]
    }
   ],
   "source": [
    "#7. Write a Python program to sort Python Dictionaries by Key or Value?\n",
    "\n",
    "from collections import OrderedDict\n",
    "import numpy as np\n",
    "\n",
    "dict = {\"Arun\" : 20 , \"ram\" : 40, \"Pam\" : 10 , \"Jim\" : 4 , \"Michael\" : 55}\n",
    "\n",
    "keys = list(dict.keys())\n",
    "#print(sort)\n",
    "values = list(dict.values())\n",
    "sort = np.argsort(values)\n",
    "\n",
    "sorte_dict = {keys[i] : values[i] for i in sort}\n",
    " \n",
    "print(\"unsorted Dict \" , dict)    \n",
    "print(\"Sorted Dict \", sorte_dict)\n",
    "    \n",
    "    \n",
    " \n",
    "\n"
   ]
  }
 ],
 "metadata": {
  "kernelspec": {
   "display_name": "Python 3 (ipykernel)",
   "language": "python",
   "name": "python3"
  },
  "language_info": {
   "codemirror_mode": {
    "name": "ipython",
    "version": 3
   },
   "file_extension": ".py",
   "mimetype": "text/x-python",
   "name": "python",
   "nbconvert_exporter": "python",
   "pygments_lexer": "ipython3",
   "version": "3.9.7"
  }
 },
 "nbformat": 4,
 "nbformat_minor": 5
}
