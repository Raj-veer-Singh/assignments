{
 "cells": [
  {
   "cell_type": "code",
   "execution_count": 1,
   "id": "eccec7c2",
   "metadata": {},
   "outputs": [],
   "source": [
    "#1. Write a Python Program to find sum of array?\n",
    "#2. Write a Python Program to find largest element in an array?\n",
    "#3. Write a Python Program for array rotation?\n",
    "#4. Write a Python Program to Split the array and add the first part to the end?\n",
    "#5. Write a Python Program to check if given array is Monotonic?"
   ]
  },
  {
   "cell_type": "code",
   "execution_count": 10,
   "id": "0901bc35",
   "metadata": {},
   "outputs": [
    {
     "name": "stdout",
     "output_type": "stream",
     "text": [
      "Sum of array  22\n"
     ]
    }
   ],
   "source": [
    "#1. Write a Python Program to find sum of array?\n",
    "n = [1,2,3,4,5,7]\n",
    "sum = 0\n",
    "for i in range(0,len(n)):\n",
    "    #print(i)\n",
    "    sum = sum + n[i]\n",
    "    \n",
    "print(\"Sum of array \" , sum)"
   ]
  },
  {
   "cell_type": "code",
   "execution_count": 16,
   "id": "7426e239",
   "metadata": {},
   "outputs": [
    {
     "name": "stdout",
     "output_type": "stream",
     "text": [
      "4444\n"
     ]
    }
   ],
   "source": [
    "#2. Write a Python Program to find largest element in an array?\n",
    "n = [1,2,88,4444,5,6,7]\n",
    "max = 0\n",
    "for i in range(0,len(n)):\n",
    "    if max < n[i]:\n",
    "        max = n[i]\n",
    "        \n",
    "print(max)\n",
    "    "
   ]
  },
  {
   "cell_type": "code",
   "execution_count": 32,
   "id": "7fc6f001",
   "metadata": {},
   "outputs": [
    {
     "name": "stdout",
     "output_type": "stream",
     "text": [
      "array rotation is   [3, 4, 5, 6, 7, 8, 1, 2]\n"
     ]
    }
   ],
   "source": [
    "#3. Write a Python Program for array rotation?\n",
    "def ar(a, d):\n",
    "    temp = []\n",
    "    n = len(a)\n",
    "\n",
    "    \n",
    "    for i in range(d,n):\n",
    "        #print(i)\n",
    "        temp.append(a[i])\n",
    "    i=0\n",
    "    for i in range(0,d):\n",
    "        #print(i)\n",
    "        temp.append(a[i])\n",
    "    a = temp.copy()\n",
    "    return a\n",
    "\n",
    "arr=[1,2,3,4,5,6,7,8]\n",
    "\n",
    "print(\"array rotation is  \" , end = ' ')\n",
    "print(ar(arr,2))\n",
    "\n",
    "        "
   ]
  },
  {
   "cell_type": "code",
   "execution_count": 33,
   "id": "61e91a2b",
   "metadata": {},
   "outputs": [
    {
     "data": {
      "text/plain": [
       "8"
      ]
     },
     "execution_count": 33,
     "metadata": {},
     "output_type": "execute_result"
    }
   ],
   "source": [
    "arr=[1,2,3,4,5,6,7,8]\n",
    "len(arr)"
   ]
  },
  {
   "cell_type": "code",
   "execution_count": 34,
   "id": "21e74fcb",
   "metadata": {},
   "outputs": [
    {
     "name": "stdout",
     "output_type": "stream",
     "text": [
      "[4, 5, 6, 1, 2, 3]\n"
     ]
    }
   ],
   "source": [
    "#4. Write a Python Program to Split the array and add the first part to the end?\n",
    "def split_arr(a,d):\n",
    "    temp = []\n",
    "    n = len(a)\n",
    "    \n",
    "    for i in range(d,n):\n",
    "        temp.append(a[i])\n",
    "        \n",
    "    i=0\n",
    "    for i in range(0,d):\n",
    "        temp.append(a[i])\n",
    "    a = temp.copy()\n",
    "    return a\n",
    "    \n",
    "    \n",
    "    \n",
    "    \n",
    "arr = [1,2,3,4,5,6]\n",
    "print(split_arr(arr,3))\n"
   ]
  },
  {
   "cell_type": "code",
   "execution_count": 38,
   "id": "a3c80648",
   "metadata": {},
   "outputs": [
    {
     "name": "stdout",
     "output_type": "stream",
     "text": [
      "is the given array monotonic ??  False\n"
     ]
    }
   ],
   "source": [
    "#5. Write a Python Program to check if given array is Monotonic?\n",
    "def check_monotonic(arr):\n",
    "    a , b = [] , []\n",
    "    a.extend(arr)\n",
    "    b.extend(arr)\n",
    "    a.sort()\n",
    "    b.sort(reverse=True)\n",
    "    \n",
    "    if (a== arr or b == arr):\n",
    "        return True\n",
    "    else:\n",
    "        return False\n",
    "    \n",
    "arr = [33,4,55,6,77]\n",
    "print(\"is the given array monotonic ?? \" ,check_monotonic(arr))\n"
   ]
  }
 ],
 "metadata": {
  "kernelspec": {
   "display_name": "Python 3 (ipykernel)",
   "language": "python",
   "name": "python3"
  },
  "language_info": {
   "codemirror_mode": {
    "name": "ipython",
    "version": 3
   },
   "file_extension": ".py",
   "mimetype": "text/x-python",
   "name": "python",
   "nbconvert_exporter": "python",
   "pygments_lexer": "ipython3",
   "version": "3.9.7"
  }
 },
 "nbformat": 4,
 "nbformat_minor": 5
}
