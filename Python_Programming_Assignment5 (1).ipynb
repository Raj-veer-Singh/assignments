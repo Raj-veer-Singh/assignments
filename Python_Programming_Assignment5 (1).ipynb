{
 "cells": [
  {
   "cell_type": "code",
   "execution_count": 1,
   "id": "22735261",
   "metadata": {},
   "outputs": [],
   "source": [
    "#1. Write a Python Program to Find LCM?"
   ]
  },
  {
   "cell_type": "code",
   "execution_count": 4,
   "id": "1f128818",
   "metadata": {},
   "outputs": [
    {
     "name": "stdout",
     "output_type": "stream",
     "text": [
      "enter first number 2\n",
      "enter second number 3\n",
      "LCM of n1 and n2 =  6\n"
     ]
    }
   ],
   "source": [
    "n1 = int(input(\"enter first number \"))\n",
    "n2 = int(input(\"enter second number \"))\n",
    "\n",
    "if n1 > n2:\n",
    "    greater = n1\n",
    "else:\n",
    "    greater = n2\n",
    "    \n",
    "    while (True):\n",
    "        if (greater%n1 == 0) and (greater%n2 == 0):\n",
    "            LCM = greater\n",
    "            break\n",
    "        greater = greater + 1\n",
    "        \n",
    "            \n",
    "    print(\"LCM of n1 and n2 = \", LCM)\n",
    "        \n",
    "    "
   ]
  },
  {
   "cell_type": "code",
   "execution_count": 12,
   "id": "58c049ae",
   "metadata": {},
   "outputs": [],
   "source": [
    "#2. Write a Python Program to Find HCF?"
   ]
  },
  {
   "cell_type": "code",
   "execution_count": 3,
   "id": "4960b3a1",
   "metadata": {},
   "outputs": [
    {
     "name": "stdout",
     "output_type": "stream",
     "text": [
      "enter first number 2\n",
      "enter second number 4\n",
      "Hcf =  2\n"
     ]
    }
   ],
   "source": [
    "n1 = int(input(\"enter first number \"))\n",
    "n2 = int(input(\"enter second number \"))\n",
    "\n",
    "if n1 > n2:\n",
    "    smaller = n2\n",
    "    \n",
    "else:\n",
    "    smaller = n1\n",
    "    \n",
    "    for i in range(1, smaller+1):\n",
    "        if (n1%i == 0) and (n2%i == 0):\n",
    "            hcf = i\n",
    "            \n",
    "    print(\"Hcf = \", hcf)\n",
    "        "
   ]
  },
  {
   "cell_type": "code",
   "execution_count": 8,
   "id": "d10b36d2",
   "metadata": {},
   "outputs": [],
   "source": [
    "#3.\tWrite a Python Program to Convert Decimal to Binary, Octal and Hexadecimal?"
   ]
  },
  {
   "cell_type": "code",
   "execution_count": 9,
   "id": "44444b14",
   "metadata": {},
   "outputs": [
    {
     "name": "stdout",
     "output_type": "stream",
     "text": [
      "enter number to be converted to binary 11\n",
      "0 1 0 1 1 "
     ]
    }
   ],
   "source": [
    "#Decimal to Binary\n",
    "def Dec_To_Binary(num):\n",
    "    \n",
    "    if num>=1 :\n",
    "        Dec_To_Binary(num//2)\n",
    "        \n",
    "    print(num % 2, end = ' ')\n",
    "    \n",
    "    \n",
    "if __name__ == '__main__':\n",
    "    decimal_val = int(input(\"enter number to be converted to binary \"))\n",
    "    \n",
    "    \n",
    "    Dec_To_Binary(decimal_val)\n",
    "    \n",
    "    "
   ]
  },
  {
   "cell_type": "code",
   "execution_count": 12,
   "id": "e689ce60",
   "metadata": {},
   "outputs": [
    {
     "name": "stdout",
     "output_type": "stream",
     "text": [
      "enter number 33\n",
      "4 1 "
     ]
    }
   ],
   "source": [
    "#Decimal to Octal\n",
    "def Dec_To_Octal(num):\n",
    "    \n",
    "    octal_num = [0]*100\n",
    "    i  = 0\n",
    "    while(num != 0):\n",
    "        octal_num[i] = num % 8\n",
    "        num = int(num / 8)\n",
    "        \n",
    "        i = i + 1\n",
    "    \n",
    "    for k in range(i-1 , -1, -1):\n",
    "        print(octal_num[k], end = ' ')\n",
    "        \n",
    "num = int(input(\"enter number \"))\n",
    "Dec_To_Octal(num)"
   ]
  },
  {
   "cell_type": "code",
   "execution_count": 41,
   "id": "fbc6d436",
   "metadata": {},
   "outputs": [
    {
     "name": "stdout",
     "output_type": "stream",
     "text": [
      "enter number 2545\n",
      "9F1"
     ]
    }
   ],
   "source": [
    "#Decimal to Hexa decimal\n",
    "def Dec_To_Hexa(num):\n",
    "    \n",
    "    HDN = [0] * 100\n",
    "    \n",
    "    i = 0\n",
    "    while (num != 0):\n",
    "        temp = 0\n",
    "        \n",
    "        temp = num % 16\n",
    "        \n",
    "        if (temp < 10):\n",
    "            HDN[i] = chr(temp + 48)\n",
    "            \n",
    "            i = i + 1\n",
    "            \n",
    "        else:\n",
    "            HDN[i] = chr(temp + 55)\n",
    "            \n",
    "            i = i + 1\n",
    "            \n",
    "        num = int(num / 16)\n",
    "    \n",
    "    j = i - 1\n",
    "    \n",
    "    while (j >= 0):\n",
    "        print((HDN[j] ), end = '')\n",
    "        j = j - 1\n",
    "        \n",
    "num = int(input(\"enter number \"))\n",
    "\n",
    "Dec_To_Hexa(num)\n",
    "            \n",
    "            "
   ]
  },
  {
   "cell_type": "code",
   "execution_count": 9,
   "id": "2ef8224f",
   "metadata": {},
   "outputs": [],
   "source": [
    "#5.\tWrite a Python Program to Make a Simple Calculator with 4 basic mathematical operations?"
   ]
  },
  {
   "cell_type": "code",
   "execution_count": 42,
   "id": "d91e4e19",
   "metadata": {},
   "outputs": [
    {
     "name": "stdout",
     "output_type": "stream",
     "text": [
      "1 : add\n",
      "2 : sub\n",
      "3 : mul\n",
      "4 : div\n",
      "1/2/3/4 4\n",
      "enter first number 3\n",
      "enter second number 0\n",
      "division by zero\n"
     ]
    }
   ],
   "source": [
    "def add(num1, num2):\n",
    "    return num1 + num2\n",
    "\n",
    "def sub(num1, num2):\n",
    "    return num1 - num2\n",
    "\n",
    "def mul(num1, num2):\n",
    "    return num1 * num2\n",
    "\n",
    "def div(num1, num2):\n",
    "    return num1/num2\n",
    "\n",
    "print(\"1 : add\")\n",
    "print(\"2 : sub\")\n",
    "print(\"3 : mul\")\n",
    "print(\"4 : div\")\n",
    "\n",
    "\n",
    "choice = input(\"1/2/3/4 \")\n",
    "\n",
    "\n",
    "if choice in (\"1\" , \"2\" , \"3\" , \"4\"):\n",
    "    try:\n",
    "        \n",
    "        num1 = int(input(\"enter first number \"))\n",
    "        num2 = int(input(\"enter second number \"))\n",
    "  \n",
    "\n",
    "        if choice == \"1\":\n",
    "        \n",
    "    \n",
    "            print(\"add = \" , add(num1 , num2))\n",
    "        \n",
    "        elif choice == \"2\":\n",
    "            print(\"sub = \" , sub(num1, num2))\n",
    "        \n",
    "        elif choice == \"3\":\n",
    "            print(\"mul = \" , mul(num1 , num2))\n",
    "        \n",
    "        elif choice == \"4\":\n",
    "            print(\"div= \" , div(num1 , num2))\n",
    "    except ZeroDivisionError as e:\n",
    "        print(e)\n",
    "else:\n",
    "    print(\"invalid input\")"
   ]
  },
  {
   "cell_type": "code",
   "execution_count": 39,
   "id": "9c5921bd",
   "metadata": {},
   "outputs": [
    {
     "name": "stdout",
     "output_type": "stream",
     "text": [
      "enter character J\n",
      "ASCII value of  J 74\n"
     ]
    }
   ],
   "source": [
    "#Write a Python Program To Find ASCII value of a character?\n",
    "\n",
    "character = input(\"enter character \")\n",
    "\n",
    "print(\"ASCII value of \" , character , ord(character))"
   ]
  }
 ],
 "metadata": {
  "kernelspec": {
   "display_name": "Python 3 (ipykernel)",
   "language": "python",
   "name": "python3"
  },
  "language_info": {
   "codemirror_mode": {
    "name": "ipython",
    "version": 3
   },
   "file_extension": ".py",
   "mimetype": "text/x-python",
   "name": "python",
   "nbconvert_exporter": "python",
   "pygments_lexer": "ipython3",
   "version": "3.9.7"
  }
 },
 "nbformat": 4,
 "nbformat_minor": 5
}
