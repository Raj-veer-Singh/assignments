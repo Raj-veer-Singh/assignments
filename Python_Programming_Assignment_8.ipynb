{
 "cells": [
  {
   "cell_type": "code",
   "execution_count": 1,
   "id": "38384dca",
   "metadata": {},
   "outputs": [],
   "source": [
    "#1. Write a Python Program to Add Two Matrices?\n",
    "#2. Write a Python Program to Multiply Two Matrices?\n",
    "#3. Write a Python Program to Transpose a Matrix?\n",
    "#4. Write a Python Program to Sort Words in Alphabetic Order?\n",
    "#5. Write a Python Program to Remove Punctuation From a String?"
   ]
  },
  {
   "cell_type": "code",
   "execution_count": 5,
   "id": "f6f24b73",
   "metadata": {},
   "outputs": [
    {
     "name": "stdout",
     "output_type": "stream",
     "text": [
      "[[2, 4, 6], [8, 10, 12], [14, 16, 18]]\n"
     ]
    }
   ],
   "source": [
    "#1. Write a Python Program to Add Two Matrices?\n",
    "\n",
    "x = [[1,2,3],[4,5,6],[7,8,9]]\n",
    "\n",
    "y = [[1,2,3],[4,5,6],[7,8,9]] \n",
    "\n",
    "z = [[0,0,0],[0,0,0],[0,0,0]]\n",
    "\n",
    "for i in range(len(x)):\n",
    "    for j in range(len(x[0])):\n",
    "        z[i][j] = x[i][j] + y[i][j]\n",
    "        \n",
    "\n",
    "\n",
    "print(z)\n"
   ]
  },
  {
   "cell_type": "code",
   "execution_count": 12,
   "id": "1ab12241",
   "metadata": {},
   "outputs": [
    {
     "name": "stdout",
     "output_type": "stream",
     "text": [
      "[30, 36, 42]\n",
      "[66, 81, 96]\n",
      "[102, 126, 150]\n"
     ]
    }
   ],
   "source": [
    "#2. Write a Python Program to Multiply Two Matrices?\n",
    "x = [[1,2,3],\n",
    "     [4,5,6],\n",
    "     [7,8,9]]\n",
    "\n",
    "y = [[1,2,3],\n",
    "     [4,5,6],\n",
    "     [7,8,9]] \n",
    "\n",
    "z = [[0,0,0],\n",
    "     [0,0,0],\n",
    "     [0,0,0]]\n",
    "\n",
    "for i in range(len(x)):\n",
    "    for j in range(len(y[0])):\n",
    "        \n",
    "        for k in range(len(y)):\n",
    "            \n",
    "            z[i][j] += x[i][k] * y[k][j]\n",
    "        \n",
    "for result in z:\n",
    "    print(result)\n",
    "        \n",
    "\n",
    "\n"
   ]
  },
  {
   "cell_type": "code",
   "execution_count": 15,
   "id": "31b037b0",
   "metadata": {},
   "outputs": [
    {
     "name": "stdout",
     "output_type": "stream",
     "text": [
      "Transpose =  [[1, 4, 7], [4, 5, 8], [7, 8, 9]]\n"
     ]
    }
   ],
   "source": [
    "#3. Write a Python Program to Transpose a Matrix?\n",
    "x = [[1,2,3],\n",
    "     [4,5,6],\n",
    "     [7,8,9]]\n",
    "\n",
    "for i in range(len(x)):\n",
    "    for j in range(len(x[0])):\n",
    "        x[i][j] = x[j][i]\n",
    "print(\"Transpose = \" , x)"
   ]
  },
  {
   "cell_type": "code",
   "execution_count": 43,
   "id": "74c2b15c",
   "metadata": {},
   "outputs": [
    {
     "name": "stdout",
     "output_type": "stream",
     "text": [
      "Ineuron\n",
      "are\n",
      "assignments\n",
      "helpful\n",
      "very\n"
     ]
    }
   ],
   "source": [
    "#4. Write a Python Program to Sort Words in Alphabetic Order?\n",
    "\n",
    "s = \"Ineuron assignments are very helpful\"\n",
    "\n",
    "l = []\n",
    "\n",
    "for k in s.split():\n",
    "    #print(k)\n",
    "    l.append(k)\n",
    "#print(l)\n",
    "\n",
    "l.sort()\n",
    "\n",
    "for k in l:\n",
    "    print(k)\n"
   ]
  },
  {
   "cell_type": "code",
   "execution_count": 48,
   "id": "d1f284d2",
   "metadata": {},
   "outputs": [
    {
     "name": "stdout",
     "output_type": "stream",
     "text": [
      "enter string rajveer%#$singh:^\n",
      "string after removing Punctuations =   rajveersingh\n"
     ]
    }
   ],
   "source": [
    "#5. Write a Python Program to Remove Punctuation From a String?\n",
    "punctuation_list = '''!()-[]{};:'\"\\,<>./?@#$%^&*_~'''\n",
    "\n",
    "s = input(\"enter string \")\n",
    "trim_punc = \" \"\n",
    "\n",
    "for i in s:\n",
    "    if i not in punctuation_list:\n",
    "        trim_punc = trim_punc + i\n",
    "        \n",
    "print(\"string after removing Punctuations = \" , trim_punc)\n",
    "        \n",
    "    "
   ]
  }
 ],
 "metadata": {
  "kernelspec": {
   "display_name": "Python 3 (ipykernel)",
   "language": "python",
   "name": "python3"
  },
  "language_info": {
   "codemirror_mode": {
    "name": "ipython",
    "version": 3
   },
   "file_extension": ".py",
   "mimetype": "text/x-python",
   "name": "python",
   "nbconvert_exporter": "python",
   "pygments_lexer": "ipython3",
   "version": "3.9.7"
  }
 },
 "nbformat": 4,
 "nbformat_minor": 5
}
