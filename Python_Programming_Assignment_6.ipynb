{
 "cells": [
  {
   "cell_type": "code",
   "execution_count": 1,
   "id": "08030b65",
   "metadata": {},
   "outputs": [],
   "source": [
    "#1. Write a Python Program to Display Fibonacci Sequence Using Recursion?\n",
    "#2. Write a Python Program to Find Factorial of Number Using Recursion?\n",
    "#3. Write a Python Program to calculate your Body Mass Index?\n",
    "#4. Write a Python Program to calculate the natural logarithm of any number?\n",
    "#5. Write a Python Program for cube sum of first n natural numbers?"
   ]
  },
  {
   "cell_type": "code",
   "execution_count": 3,
   "id": "4388c7d9",
   "metadata": {},
   "outputs": [
    {
     "name": "stdout",
     "output_type": "stream",
     "text": [
      "how many terms ?? 12\n",
      "0\n",
      "1\n",
      "1\n",
      "2\n",
      "3\n",
      "5\n",
      "8\n",
      "13\n",
      "21\n",
      "34\n",
      "55\n",
      "89\n"
     ]
    }
   ],
   "source": [
    "#1. Write a Python Program to Display Fibonacci Sequence Using Recursion?\n",
    "def recurr(n):\n",
    "    \n",
    "    if n <=1:\n",
    "        return n\n",
    "    else:\n",
    "        return (recurr(n-1) + recurr(n - 2))\n",
    "    \n",
    "terms = int(input(\"how many terms ?? \"))\n",
    "\n",
    "if terms < 0:\n",
    "    print(\"invalid input \")\n",
    "else:\n",
    "    \n",
    "    for i in range(terms):\n",
    "        print(recurr(i))\n",
    "    \n"
   ]
  },
  {
   "cell_type": "code",
   "execution_count": 6,
   "id": "2166acba",
   "metadata": {},
   "outputs": [
    {
     "name": "stdout",
     "output_type": "stream",
     "text": [
      "enter number 4\n",
      "factorial of num  4 is 24\n"
     ]
    }
   ],
   "source": [
    "#2. Write a Python Program to Find Factorial of Number Using Recursion?\n",
    "def factorial(n):\n",
    "    if n == 1:\n",
    "        return n\n",
    "    else:\n",
    "        return n*factorial(n-1)\n",
    "    \n",
    "number = int(input(\"enter number \"))\n",
    "\n",
    "if number < 0:\n",
    "    print(\"invalid\")\n",
    "elif number == 0:\n",
    "    print(\"factorial = 1\")\n",
    "    \n",
    "else:\n",
    "    print(\"factorial of num \" , number , \"is\" , factorial(number))\n",
    "    \n",
    "    \n",
    "    "
   ]
  },
  {
   "cell_type": "code",
   "execution_count": 9,
   "id": "ebb6bf60",
   "metadata": {},
   "outputs": [
    {
     "name": "stdout",
     "output_type": "stream",
     "text": [
      "Enter the height in cm45\n",
      "Enter the weight in kg66\n",
      "Your Body Mass Index is 325.9259259259259\n",
      "You are obese\n"
     ]
    }
   ],
   "source": [
    "#3. Write a Python Program to calculate your Body Mass Index?\n",
    "height = float(input(\"Enter the height in cm\"))  \n",
    "weight = float(input(\"Enter the weight in kg\"))  \n",
    " \n",
    "BMI = weight / (height/100)**2  \n",
    " \n",
    "print(\"Your Body Mass Index is\",BMI)  \n",
    " \n",
    "if BMI <= 18.5:  \n",
    "    print(\"You are underweight\")  \n",
    "elif BMI <= 24.9:  \n",
    "    print(\"You are healthy.\")  \n",
    "elif BMI <= 29.9:  \n",
    "    print(\"You are over weight.\")  \n",
    "else:  \n",
    "    print(\"You are obese\")  "
   ]
  },
  {
   "cell_type": "code",
   "execution_count": 11,
   "id": "9c9ec4ed",
   "metadata": {},
   "outputs": [
    {
     "name": "stdout",
     "output_type": "stream",
     "text": [
      "enter number 5\n",
      "natural log of number is =  1.6094379124341003\n"
     ]
    }
   ],
   "source": [
    "#4. Write a Python Program to calculate the natural logarithm of any number?\n",
    "import math\n",
    "\n",
    "num = int(input(\"enter number \"))\n",
    "\n",
    "res = math.log(num)\n",
    "\n",
    "print(\"natural log of number is = \", res)"
   ]
  },
  {
   "cell_type": "code",
   "execution_count": 14,
   "id": "9b1d4e0d",
   "metadata": {},
   "outputs": [
    {
     "name": "stdout",
     "output_type": "stream",
     "text": [
      "enter natural number 4\n",
      "100\n"
     ]
    }
   ],
   "source": [
    "#5. Write a Python Program for cube sum of first n natural numbers?\n",
    "\n",
    "num = int(input(\"enter natural number \"))\n",
    "sum = 0\n",
    "\n",
    "for i in range(1, num+1):\n",
    "    sum = sum + pow(i,3)\n",
    "    \n",
    "print(sum)"
   ]
  }
 ],
 "metadata": {
  "kernelspec": {
   "display_name": "Python 3 (ipykernel)",
   "language": "python",
   "name": "python3"
  },
  "language_info": {
   "codemirror_mode": {
    "name": "ipython",
    "version": 3
   },
   "file_extension": ".py",
   "mimetype": "text/x-python",
   "name": "python",
   "nbconvert_exporter": "python",
   "pygments_lexer": "ipython3",
   "version": "3.9.7"
  }
 },
 "nbformat": 4,
 "nbformat_minor": 5
}
