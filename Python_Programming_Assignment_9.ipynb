{
 "cells": [
  {
   "cell_type": "code",
   "execution_count": 1,
   "id": "84481e8a",
   "metadata": {},
   "outputs": [],
   "source": [
    "#1. Write a Python program to check if the given number is a Disarium Number?\n",
    "#2. Write a Python program to print all disarium numbers between 1 to 100?\n",
    "#3. Write a Python program to check if the given number is Happy Number?\n",
    "#4. Write a Python program to print all happy numbers between 1 and 100?\n",
    "#5. Write a Python program to determine whether the given number is a Harshad Number?\n",
    "#6. Write a Python program to print all pronic numbers between 1 and 100?"
   ]
  },
  {
   "cell_type": "code",
   "execution_count": 7,
   "id": "337f345e",
   "metadata": {},
   "outputs": [
    {
     "name": "stdout",
     "output_type": "stream",
     "text": [
      "enter number 175\n",
      "175  is Disarium number \n"
     ]
    }
   ],
   "source": [
    "#1. Write a Python program to check if the given number is a Disarium Number?\n",
    "n = int(input(\"enter number \"))\n",
    "temp = n\n",
    "x = n\n",
    "count = 0\n",
    "while temp>0:\n",
    "    temp = temp//10\n",
    "    count = count + 1\n",
    "sum = 0\n",
    "while x>0:\n",
    "    rem = x%10\n",
    "    sum = sum + rem**count\n",
    "    x = x//10\n",
    "    count = count -1 \n",
    "    \n",
    "if sum == n:\n",
    "    print(n , \" is Disarium number \")\n",
    "else:\n",
    "    print(n, \"is not a Disarium number\")"
   ]
  },
  {
   "cell_type": "code",
   "execution_count": 2,
   "id": "c504a427",
   "metadata": {},
   "outputs": [
    {
     "name": "stdout",
     "output_type": "stream",
     "text": [
      "Disarium numbers between 1 and 100 are\n",
      "1\n",
      "2\n",
      "3\n",
      "4\n",
      "5\n",
      "6\n",
      "7\n",
      "8\n",
      "9\n",
      "89\n"
     ]
    }
   ],
   "source": [
    "#2. Write a Python program to print all disarium numbers between 1 to 100?\n",
    "def CL(n):    \n",
    "    length = 0;    \n",
    "    while(n != 0):    \n",
    "        length = length + 1;    \n",
    "        n = n//10;    \n",
    "    return length;\n",
    "\n",
    "def sumOfDigits(num):    \n",
    "    rem = 0\n",
    "    sum = 0\n",
    "    len = CL(num);    \n",
    "        \n",
    "    while(num > 0):    \n",
    "        rem = num%10;    \n",
    "        sum = sum + (rem**len);    \n",
    "        num = num//10;    \n",
    "        len = len - 1;    \n",
    "    return sum;    \n",
    "      \n",
    "result = 0;    \n",
    "\n",
    "\n",
    "print(\"Disarium numbers between 1 and 100 are\");    \n",
    "for i in range(1, 101):    \n",
    "    result = sumOfDigits(i);    \n",
    "        \n",
    "    if(result == i):    \n",
    "        print(i)    "
   ]
  },
  {
   "cell_type": "code",
   "execution_count": 4,
   "id": "c7bc645a",
   "metadata": {},
   "outputs": [
    {
     "name": "stdout",
     "output_type": "stream",
     "text": [
      "enter number to check happy number 19\n",
      "19 is a Happ Number\n"
     ]
    }
   ],
   "source": [
    "#3. Write a Python program to check if the given number is Happy Number?\n",
    "num = int(input(\"enter number to check happy number \"))\n",
    "x = num\n",
    "\n",
    "while x>=10:\n",
    "    sum=0\n",
    "    while x>0:\n",
    "        rem = x%10\n",
    "        sum = sum+(rem**2)\n",
    "        x = x//10\n",
    "        \n",
    "    x = sum\n",
    "    \n",
    "\n",
    "if x==1:\n",
    "    print(num , \"is a Happ Number\")\n",
    "else:\n",
    "    print(num ,\"is not a Happy Number \")\n",
    "        \n",
    "        "
   ]
  },
  {
   "cell_type": "code",
   "execution_count": 12,
   "id": "27778626",
   "metadata": {},
   "outputs": [
    {
     "name": "stdout",
     "output_type": "stream",
     "text": [
      "1\n",
      "10\n",
      "13\n",
      "19\n",
      "23\n",
      "28\n",
      "31\n",
      "32\n",
      "44\n",
      "49\n",
      "68\n",
      "70\n",
      "79\n",
      "82\n",
      "86\n",
      "91\n",
      "94\n",
      "97\n",
      "100\n"
     ]
    }
   ],
   "source": [
    "#4. Write a Python program to print all happy numbers between 1 and 100?\n",
    "def HN(i):\n",
    "    x = i\n",
    "    while x>=10:\n",
    "        sum=0\n",
    "        while x>0:\n",
    "            rem = x%10\n",
    "            sum = sum+(rem**2)\n",
    "            x = x//10\n",
    "        \n",
    "        x = sum\n",
    "    return x\n",
    "    \n",
    "result = 0;\n",
    "    \n",
    "\n",
    "for i in range(0,101):\n",
    "    result = HN(i);\n",
    "    \n",
    "    if (result == x):\n",
    "        print(i)\n",
    "    \n",
    "    \n",
    "\n",
    "        \n",
    "        "
   ]
  },
  {
   "cell_type": "code",
   "execution_count": 8,
   "id": "bd3b2f39",
   "metadata": {},
   "outputs": [
    {
     "name": "stdout",
     "output_type": "stream",
     "text": [
      "enter a number 14\n",
      "number is not harshad number \n"
     ]
    }
   ],
   "source": [
    "#5. Write a Python program to determine whether the given number is a Harshad Number?\n",
    "\n",
    "num = int(input(\"enter a number \"))\n",
    "sum = 0\n",
    "rem = 0\n",
    "\n",
    "x = num\n",
    "while x>0:\n",
    "    rem = x%10\n",
    "    sum = sum + rem\n",
    "    x = x//10\n",
    "    \n",
    "if (num%sum == 0):\n",
    "    print(\"number is harshad number \")\n",
    "else:\n",
    "    print(\"number is not harshad number \")\n",
    "    \n",
    "    "
   ]
  },
  {
   "cell_type": "code",
   "execution_count": 24,
   "id": "e1d84d33",
   "metadata": {},
   "outputs": [
    {
     "name": "stdout",
     "output_type": "stream",
     "text": [
      "1 2 3 4 5 6 7 8 9 10 12 18 20 21 24 27 30 36 40 42 45 48 50 54 60 63 70 72 80 81 84 90 100 "
     ]
    }
   ],
   "source": [
    "#6. Write a Python program to print all pronic numbers between 1 and 100?\n",
    "\n",
    "def Har_Num(i):\n",
    "    x = i\n",
    "    rem = 0\n",
    "    sum = 0\n",
    "    check = False\n",
    "    while x>0:\n",
    "        \n",
    "        rem = x%10\n",
    "        sum = sum + rem\n",
    "        x = x//10\n",
    "        \n",
    "    if i%sum == 0:\n",
    "        \n",
    "        check = True\n",
    "        \n",
    "    return check\n",
    "\n",
    "for i in range(1,101):\n",
    "    \n",
    "    \n",
    "    \n",
    "    if Har_Num(i):\n",
    "       \n",
    "        \n",
    "        print(i,end = ' ')\n",
    "        \n"
   ]
  }
 ],
 "metadata": {
  "kernelspec": {
   "display_name": "Python 3 (ipykernel)",
   "language": "python",
   "name": "python3"
  },
  "language_info": {
   "codemirror_mode": {
    "name": "ipython",
    "version": 3
   },
   "file_extension": ".py",
   "mimetype": "text/x-python",
   "name": "python",
   "nbconvert_exporter": "python",
   "pygments_lexer": "ipython3",
   "version": "3.9.7"
  }
 },
 "nbformat": 4,
 "nbformat_minor": 5
}
