{
 "cells": [
  {
   "cell_type": "code",
   "execution_count": 1,
   "id": "89c5100f",
   "metadata": {},
   "outputs": [
    {
     "data": {
      "text/plain": [
       "'1. Write a Python Program to Find the Factorial of a Number?\\n2. Write a Python Program to Display the multiplication Table?\\n3. Write a Python Program to Print the Fibonacci sequence?\\n4. Write a Python Program to Check Armstrong Number?\\n5. Write a Python Program to Find Armstrong Number in an Interval?\\n6. Write a Python Program to Find the Sum of Natural Numbers?'"
      ]
     },
     "execution_count": 1,
     "metadata": {},
     "output_type": "execute_result"
    }
   ],
   "source": [
    "'''1. Write a Python Program to Find the Factorial of a Number?\n",
    "2. Write a Python Program to Display the multiplication Table?\n",
    "3. Write a Python Program to Print the Fibonacci sequence?\n",
    "4. Write a Python Program to Check Armstrong Number?\n",
    "5. Write a Python Program to Find Armstrong Number in an Interval?\n",
    "6. Write a Python Program to Find the Sum of Natural Numbers?'''"
   ]
  },
  {
   "cell_type": "code",
   "execution_count": 4,
   "id": "8afc7f2f",
   "metadata": {},
   "outputs": [
    {
     "name": "stdout",
     "output_type": "stream",
     "text": [
      "enter a number 7\n",
      "factorial of num =  5040\n"
     ]
    }
   ],
   "source": [
    "#1. Write a Python Program to Find the Factorial of a Number?\n",
    "num = int(input(\"enter a number \"))\n",
    "i = 1\n",
    "fact = 1\n",
    "while i <=num:\n",
    "    fact = fact * i\n",
    "    i = i + 1\n",
    "    \n",
    "print(\"factorial of num = \", fact)\n"
   ]
  },
  {
   "cell_type": "code",
   "execution_count": 4,
   "id": "67e4eaff",
   "metadata": {},
   "outputs": [
    {
     "name": "stdout",
     "output_type": "stream",
     "text": [
      "enter number whose multiplication tables needs to be displayed 8\n",
      "8  *  1 =  8\n",
      "8  *  2 =  16\n",
      "8  *  3 =  24\n",
      "8  *  4 =  32\n",
      "8  *  5 =  40\n",
      "8  *  6 =  48\n",
      "8  *  7 =  56\n",
      "8  *  8 =  64\n",
      "8  *  9 =  72\n",
      "8  *  10 =  80\n"
     ]
    }
   ],
   "source": [
    "#2. Write a Python Program to Display the multiplication Table?\n",
    "n = int(input(\"enter number whose multiplication tables needs to be displayed \"))\n",
    "i = 1\n",
    "j = 1\n",
    "while i <= 10:\n",
    "    ans = i * n\n",
    "    i = i + 1\n",
    "    \n",
    "    print(n , \" * \" , j , \"= \" , ans)\n",
    "    j = j + 1\n",
    "\n"
   ]
  },
  {
   "cell_type": "code",
   "execution_count": 8,
   "id": "e9b63884",
   "metadata": {},
   "outputs": [
    {
     "name": "stdout",
     "output_type": "stream",
     "text": [
      "1 1 2 3 5 8 13 21 "
     ]
    }
   ],
   "source": [
    "#3. Write a Python Program to Print the Fibonacci sequence?\n",
    "num = 20\n",
    "c = 0\n",
    "a = 0\n",
    "b = 1\n",
    "while c <= num:\n",
    "    a = b\n",
    "    b = c\n",
    "    c = a+b\n",
    "    \n",
    "    \n",
    "    print( c , end = \" \")\n",
    "            "
   ]
  },
  {
   "cell_type": "code",
   "execution_count": 9,
   "id": "bbfc63ed",
   "metadata": {},
   "outputs": [],
   "source": [
    "#4. Write a Python Program to Check Armstrong Number?"
   ]
  },
  {
   "cell_type": "code",
   "execution_count": 16,
   "id": "0162bb24",
   "metadata": {},
   "outputs": [
    {
     "name": "stdout",
     "output_type": "stream",
     "text": [
      "enter number to cehck armstrong 543\n",
      "Its not an armstrong number \n"
     ]
    }
   ],
   "source": [
    "n = int(input(\"enter number to cehck armstrong \"))\n",
    "temp = n\n",
    "t = 0\n",
    "while n > 0:\n",
    "    rem = n % 10\n",
    "    t = t + (rem*rem*rem)\n",
    "    n = n // 10\n",
    "    \n",
    "if temp == t:\n",
    "    print(\"Its an armstrong number \")\n",
    "    \n",
    "    \n",
    "else:\n",
    "    print(\"Its not an armstrong number \")\n",
    "    "
   ]
  },
  {
   "cell_type": "code",
   "execution_count": 17,
   "id": "288e817c",
   "metadata": {},
   "outputs": [],
   "source": [
    "#5. Write a Python Program to Find Armstrong Number in an Interval?"
   ]
  },
  {
   "cell_type": "code",
   "execution_count": 7,
   "id": "763d9394",
   "metadata": {},
   "outputs": [
    {
     "name": "stdout",
     "output_type": "stream",
     "text": [
      "153\n",
      "370\n",
      "371\n",
      "407\n",
      "1634\n"
     ]
    }
   ],
   "source": [
    "lower_range = 10\n",
    "upper_range = 2000\n",
    "\n",
    "for num in range(lower_range, upper_range+1):\n",
    "    order = len(str(num))\n",
    "    t = 0\n",
    "    temp = num\n",
    "    \n",
    "    while temp > 0:\n",
    "        rem = temp % 10\n",
    "        t = t + rem**order\n",
    "        temp = temp//10\n",
    "    if num == t:\n",
    "        print(num)\n",
    "    \n"
   ]
  },
  {
   "cell_type": "code",
   "execution_count": 27,
   "id": "48ff2a23",
   "metadata": {},
   "outputs": [],
   "source": [
    "#6. Write a Python Program to Find the Sum of Natural Numbers?'''"
   ]
  },
  {
   "cell_type": "code",
   "execution_count": 37,
   "id": "c23b2e01",
   "metadata": {},
   "outputs": [
    {
     "name": "stdout",
     "output_type": "stream",
     "text": [
      "enter the natural number whose sum need to be calculated 22\n",
      "sum of natural number is =  253\n"
     ]
    }
   ],
   "source": [
    "sum = 0\n",
    "n = int((input(\"enter the natural number whose sum need to be calculated \")))\n",
    "for i in range(1, n+1):\n",
    "    sum = sum + i\n",
    "    i = i + 1\n",
    "print(\"sum of natural number is = \", sum)\n",
    "    "
   ]
  }
 ],
 "metadata": {
  "kernelspec": {
   "display_name": "Python 3 (ipykernel)",
   "language": "python",
   "name": "python3"
  },
  "language_info": {
   "codemirror_mode": {
    "name": "ipython",
    "version": 3
   },
   "file_extension": ".py",
   "mimetype": "text/x-python",
   "name": "python",
   "nbconvert_exporter": "python",
   "pygments_lexer": "ipython3",
   "version": "3.9.7"
  }
 },
 "nbformat": 4,
 "nbformat_minor": 5
}
