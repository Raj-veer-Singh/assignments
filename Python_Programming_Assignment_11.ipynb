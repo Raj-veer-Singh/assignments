{
 "cells": [
  {
   "cell_type": "code",
   "execution_count": 1,
   "id": "5b33a9a3",
   "metadata": {},
   "outputs": [],
   "source": [
    "#1. Write a Python program to find words which are greater than given length k?\n",
    "#2. Write a Python program for removing i-th character from a string?\n",
    "#3. Write a Python program to split and join a string?\n",
    "#4. Write a Python to check if a given string is binary string or not?\n",
    "#5. Write a Python program to find uncommon words from two Strings?\n",
    "#6. Write a Python to find all duplicate characters in string?\n",
    "#7. Write a Python Program to check if a string contains any special character?"
   ]
  },
  {
   "cell_type": "code",
   "execution_count": 4,
   "id": "e36c9d35",
   "metadata": {},
   "outputs": [
    {
     "name": "stdout",
     "output_type": "stream",
     "text": [
      "enter lenght k 3\n",
      "['Ineuron', 'Great', 'Data', 'Science']\n"
     ]
    }
   ],
   "source": [
    "#1. Write a Python program to find words which are greater than given length k?\n",
    "def string_l(k,str):\n",
    "    strng = []\n",
    "    \n",
    "    text = str.split(\" \")\n",
    "    \n",
    "    for i in text:\n",
    "        \n",
    "        if len(i) > k:\n",
    "            \n",
    "            strng.append(i)\n",
    "            \n",
    "    return strng\n",
    "\n",
    "k = int(input(\"enter lenght k \"))\n",
    "str = \"Ineuron Is Great For Data Science\"\n",
    "\n",
    "print(string_l(k,str))"
   ]
  },
  {
   "cell_type": "code",
   "execution_count": 7,
   "id": "1ef10ac6",
   "metadata": {},
   "outputs": [
    {
     "name": "stdout",
     "output_type": "stream",
     "text": [
      "enter position of character to be removed 6\n",
      "IneurnIsGreat\n"
     ]
    }
   ],
   "source": [
    "#2. Write a Python program for removing i-th character from a string?\n",
    "def remove_char(s, i):\n",
    "    a = s[ : i]\n",
    "    b = s[i + 1: ]\n",
    "\n",
    "    return a+b\n",
    "\n",
    "string = \"IneuronIsGreat\"\n",
    "i = int(input(\"enter position of character to be removed \"))\n",
    "print(remove_char(string,i-1))"
   ]
  },
  {
   "cell_type": "code",
   "execution_count": 13,
   "id": "f2816a51",
   "metadata": {},
   "outputs": [
    {
     "name": "stdout",
     "output_type": "stream",
     "text": [
      "String ['Ineuron', 'Data', 'Science'] New_String Ineuron-Data-Science\n"
     ]
    }
   ],
   "source": [
    "#3. Write a Python program to split and join a string?\n",
    "\n",
    "def Split_String(strng):\n",
    "    \n",
    "    str_l = strng.split(' ')\n",
    "    \n",
    "    return str_l\n",
    "\n",
    "def join_String(str_l):\n",
    "    \n",
    "    strng = '-'.join(str_l)\n",
    "    return strng\n",
    "\n",
    "\n",
    "strng = 'Ineuron Data Science'\n",
    "\n",
    "strng = Split_String(strng)\n",
    "\n",
    "new_str = join_String(strng)\n",
    "\n",
    "print(\"String\" , strng, \"New_String\" , new_str)\n",
    "\n"
   ]
  },
  {
   "cell_type": "code",
   "execution_count": 4,
   "id": "de49e8e1",
   "metadata": {},
   "outputs": [
    {
     "name": "stdout",
     "output_type": "stream",
     "text": [
      "{'0', '1'}\n",
      "It is binary string\n"
     ]
    }
   ],
   "source": [
    "#4. Write a Python to check if a given string is binary string or not?\n",
    "\n",
    "def check(string):\n",
    "    \n",
    "    p = set(string)\n",
    "    s = {'1', '0'}\n",
    "    print(p)\n",
    "    \n",
    "    if p == s or p == '0' or p =='1':\n",
    "        \n",
    "        print(\"It is binary string\")\n",
    "    else:\n",
    "        print(\"It is not a binary string \")\n",
    "        \n",
    "check('010010101')\n",
    "    "
   ]
  },
  {
   "cell_type": "code",
   "execution_count": 30,
   "id": "debb827c",
   "metadata": {},
   "outputs": [
    {
     "data": {
      "text/plain": [
       "['BootCamp', 'Workshop']"
      ]
     },
     "execution_count": 30,
     "metadata": {},
     "output_type": "execute_result"
    }
   ],
   "source": [
    "#5. Write a Python program to find uncommon words from two Strings?\n",
    "def uncommon_word(str1,str2):\n",
    "    \n",
    "    str1 = str1.split()\n",
    "    str2 = str2.split()\n",
    "    l = []\n",
    "    \n",
    "    for i in str1:\n",
    "        if i not in str2:\n",
    "            l.append(i)\n",
    "            \n",
    "    for i in str2:\n",
    "        if i not in str1:\n",
    "            l.append(i)\n",
    "            \n",
    "    l = list(set(l))\n",
    "    return l\n",
    "    \n",
    "str1 = 'Ineuron Data Science Workshop'\n",
    "str2 = 'Ineuron Data Science BootCamp'\n",
    "\n",
    "uncommon_word(str1,str2)\n"
   ]
  },
  {
   "cell_type": "code",
   "execution_count": 3,
   "id": "437e005f",
   "metadata": {},
   "outputs": [
    {
     "data": {
      "text/plain": [
       "{'-', 'I', 'i', 'n'}"
      ]
     },
     "execution_count": 3,
     "metadata": {},
     "output_type": "execute_result"
    }
   ],
   "source": [
    "#6. Write a Python to find all duplicate characters in string?\n",
    "def dup_char(str):\n",
    "    unique = set()\n",
    "    duplicate = set()\n",
    "    \n",
    "    for char in str:\n",
    "        if char in unique:\n",
    "            duplicate.add(char)\n",
    "        else:\n",
    "            unique.add(char)\n",
    "    return duplicate\n",
    "\n",
    "\n",
    "dup_char(\"Inueron-in-India\")"
   ]
  },
  {
   "cell_type": "code",
   "execution_count": 2,
   "id": "ecf1e516",
   "metadata": {},
   "outputs": [
    {
     "name": "stdout",
     "output_type": "stream",
     "text": [
      "Enter StringIneuronDatascience\n",
      "String does not contain special character \n"
     ]
    }
   ],
   "source": [
    "#7. Write a Python Program to check if a string contains any special character?\n",
    "\n",
    "string = input(\"Enter String\")\n",
    "special_char = '[@_!#$%^&*()<>?/\\|}{~:]'\n",
    "count = 0\n",
    "\n",
    "for i in range(len(string)):\n",
    "    if string[i] in special_char:\n",
    "        count += 1\n",
    "        \n",
    "if count>1:\n",
    "    print(\"String Contains Special Character \")\n",
    "    \n",
    "else:\n",
    "    print(\"String does not contain special character \")\n"
   ]
  }
 ],
 "metadata": {
  "kernelspec": {
   "display_name": "Python 3 (ipykernel)",
   "language": "python",
   "name": "python3"
  },
  "language_info": {
   "codemirror_mode": {
    "name": "ipython",
    "version": 3
   },
   "file_extension": ".py",
   "mimetype": "text/x-python",
   "name": "python",
   "nbconvert_exporter": "python",
   "pygments_lexer": "ipython3",
   "version": "3.9.7"
  }
 },
 "nbformat": 4,
 "nbformat_minor": 5
}
